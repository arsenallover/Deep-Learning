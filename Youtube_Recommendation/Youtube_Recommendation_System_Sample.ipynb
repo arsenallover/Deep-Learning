{
  "nbformat": 4,
  "nbformat_minor": 0,
  "metadata": {
    "colab": {
      "provenance": []
    },
    "kernelspec": {
      "name": "python3",
      "display_name": "Python 3"
    },
    "language_info": {
      "name": "python"
    },
    "widgets": {
      "application/vnd.jupyter.widget-state+json": {
        "312dade87865455a8ba76623fab52b87": {
          "model_module": "@jupyter-widgets/controls",
          "model_name": "HBoxModel",
          "model_module_version": "1.5.0",
          "state": {
            "_dom_classes": [],
            "_model_module": "@jupyter-widgets/controls",
            "_model_module_version": "1.5.0",
            "_model_name": "HBoxModel",
            "_view_count": null,
            "_view_module": "@jupyter-widgets/controls",
            "_view_module_version": "1.5.0",
            "_view_name": "HBoxView",
            "box_style": "",
            "children": [
              "IPY_MODEL_392f1b53bac1428b9ee05d9691f3c902",
              "IPY_MODEL_2ed1c489af814d95a0e3e3a501cb241b",
              "IPY_MODEL_aefa2c6a4ca44a8c86d1d81a272e1eaf"
            ],
            "layout": "IPY_MODEL_84132f083a5943659dc5001c99fd2f87"
          }
        },
        "392f1b53bac1428b9ee05d9691f3c902": {
          "model_module": "@jupyter-widgets/controls",
          "model_name": "HTMLModel",
          "model_module_version": "1.5.0",
          "state": {
            "_dom_classes": [],
            "_model_module": "@jupyter-widgets/controls",
            "_model_module_version": "1.5.0",
            "_model_name": "HTMLModel",
            "_view_count": null,
            "_view_module": "@jupyter-widgets/controls",
            "_view_module_version": "1.5.0",
            "_view_name": "HTMLView",
            "description": "",
            "description_tooltip": null,
            "layout": "IPY_MODEL_8953598d3ab84afb8405ed4d9edbbf28",
            "placeholder": "​",
            "style": "IPY_MODEL_015252e637644b2faa7a0311b22bf000",
            "value": "100%"
          }
        },
        "2ed1c489af814d95a0e3e3a501cb241b": {
          "model_module": "@jupyter-widgets/controls",
          "model_name": "FloatProgressModel",
          "model_module_version": "1.5.0",
          "state": {
            "_dom_classes": [],
            "_model_module": "@jupyter-widgets/controls",
            "_model_module_version": "1.5.0",
            "_model_name": "FloatProgressModel",
            "_view_count": null,
            "_view_module": "@jupyter-widgets/controls",
            "_view_module_version": "1.5.0",
            "_view_name": "ProgressView",
            "bar_style": "success",
            "description": "",
            "description_tooltip": null,
            "layout": "IPY_MODEL_1c81f98043b14e188ee045236f1ef73f",
            "max": 50,
            "min": 0,
            "orientation": "horizontal",
            "style": "IPY_MODEL_5952dded3f9742beb8d7cd4645d32efc",
            "value": 50
          }
        },
        "aefa2c6a4ca44a8c86d1d81a272e1eaf": {
          "model_module": "@jupyter-widgets/controls",
          "model_name": "HTMLModel",
          "model_module_version": "1.5.0",
          "state": {
            "_dom_classes": [],
            "_model_module": "@jupyter-widgets/controls",
            "_model_module_version": "1.5.0",
            "_model_name": "HTMLModel",
            "_view_count": null,
            "_view_module": "@jupyter-widgets/controls",
            "_view_module_version": "1.5.0",
            "_view_name": "HTMLView",
            "description": "",
            "description_tooltip": null,
            "layout": "IPY_MODEL_2f86be92d90545cda6b5423e19c721e6",
            "placeholder": "​",
            "style": "IPY_MODEL_257285dfaaad40bea10d892659c3d530",
            "value": " 50/50 [04:12&lt;00:00,  4.82s/it]"
          }
        },
        "84132f083a5943659dc5001c99fd2f87": {
          "model_module": "@jupyter-widgets/base",
          "model_name": "LayoutModel",
          "model_module_version": "1.2.0",
          "state": {
            "_model_module": "@jupyter-widgets/base",
            "_model_module_version": "1.2.0",
            "_model_name": "LayoutModel",
            "_view_count": null,
            "_view_module": "@jupyter-widgets/base",
            "_view_module_version": "1.2.0",
            "_view_name": "LayoutView",
            "align_content": null,
            "align_items": null,
            "align_self": null,
            "border": null,
            "bottom": null,
            "display": null,
            "flex": null,
            "flex_flow": null,
            "grid_area": null,
            "grid_auto_columns": null,
            "grid_auto_flow": null,
            "grid_auto_rows": null,
            "grid_column": null,
            "grid_gap": null,
            "grid_row": null,
            "grid_template_areas": null,
            "grid_template_columns": null,
            "grid_template_rows": null,
            "height": null,
            "justify_content": null,
            "justify_items": null,
            "left": null,
            "margin": null,
            "max_height": null,
            "max_width": null,
            "min_height": null,
            "min_width": null,
            "object_fit": null,
            "object_position": null,
            "order": null,
            "overflow": null,
            "overflow_x": null,
            "overflow_y": null,
            "padding": null,
            "right": null,
            "top": null,
            "visibility": null,
            "width": null
          }
        },
        "8953598d3ab84afb8405ed4d9edbbf28": {
          "model_module": "@jupyter-widgets/base",
          "model_name": "LayoutModel",
          "model_module_version": "1.2.0",
          "state": {
            "_model_module": "@jupyter-widgets/base",
            "_model_module_version": "1.2.0",
            "_model_name": "LayoutModel",
            "_view_count": null,
            "_view_module": "@jupyter-widgets/base",
            "_view_module_version": "1.2.0",
            "_view_name": "LayoutView",
            "align_content": null,
            "align_items": null,
            "align_self": null,
            "border": null,
            "bottom": null,
            "display": null,
            "flex": null,
            "flex_flow": null,
            "grid_area": null,
            "grid_auto_columns": null,
            "grid_auto_flow": null,
            "grid_auto_rows": null,
            "grid_column": null,
            "grid_gap": null,
            "grid_row": null,
            "grid_template_areas": null,
            "grid_template_columns": null,
            "grid_template_rows": null,
            "height": null,
            "justify_content": null,
            "justify_items": null,
            "left": null,
            "margin": null,
            "max_height": null,
            "max_width": null,
            "min_height": null,
            "min_width": null,
            "object_fit": null,
            "object_position": null,
            "order": null,
            "overflow": null,
            "overflow_x": null,
            "overflow_y": null,
            "padding": null,
            "right": null,
            "top": null,
            "visibility": null,
            "width": null
          }
        },
        "015252e637644b2faa7a0311b22bf000": {
          "model_module": "@jupyter-widgets/controls",
          "model_name": "DescriptionStyleModel",
          "model_module_version": "1.5.0",
          "state": {
            "_model_module": "@jupyter-widgets/controls",
            "_model_module_version": "1.5.0",
            "_model_name": "DescriptionStyleModel",
            "_view_count": null,
            "_view_module": "@jupyter-widgets/base",
            "_view_module_version": "1.2.0",
            "_view_name": "StyleView",
            "description_width": ""
          }
        },
        "1c81f98043b14e188ee045236f1ef73f": {
          "model_module": "@jupyter-widgets/base",
          "model_name": "LayoutModel",
          "model_module_version": "1.2.0",
          "state": {
            "_model_module": "@jupyter-widgets/base",
            "_model_module_version": "1.2.0",
            "_model_name": "LayoutModel",
            "_view_count": null,
            "_view_module": "@jupyter-widgets/base",
            "_view_module_version": "1.2.0",
            "_view_name": "LayoutView",
            "align_content": null,
            "align_items": null,
            "align_self": null,
            "border": null,
            "bottom": null,
            "display": null,
            "flex": null,
            "flex_flow": null,
            "grid_area": null,
            "grid_auto_columns": null,
            "grid_auto_flow": null,
            "grid_auto_rows": null,
            "grid_column": null,
            "grid_gap": null,
            "grid_row": null,
            "grid_template_areas": null,
            "grid_template_columns": null,
            "grid_template_rows": null,
            "height": null,
            "justify_content": null,
            "justify_items": null,
            "left": null,
            "margin": null,
            "max_height": null,
            "max_width": null,
            "min_height": null,
            "min_width": null,
            "object_fit": null,
            "object_position": null,
            "order": null,
            "overflow": null,
            "overflow_x": null,
            "overflow_y": null,
            "padding": null,
            "right": null,
            "top": null,
            "visibility": null,
            "width": null
          }
        },
        "5952dded3f9742beb8d7cd4645d32efc": {
          "model_module": "@jupyter-widgets/controls",
          "model_name": "ProgressStyleModel",
          "model_module_version": "1.5.0",
          "state": {
            "_model_module": "@jupyter-widgets/controls",
            "_model_module_version": "1.5.0",
            "_model_name": "ProgressStyleModel",
            "_view_count": null,
            "_view_module": "@jupyter-widgets/base",
            "_view_module_version": "1.2.0",
            "_view_name": "StyleView",
            "bar_color": null,
            "description_width": ""
          }
        },
        "2f86be92d90545cda6b5423e19c721e6": {
          "model_module": "@jupyter-widgets/base",
          "model_name": "LayoutModel",
          "model_module_version": "1.2.0",
          "state": {
            "_model_module": "@jupyter-widgets/base",
            "_model_module_version": "1.2.0",
            "_model_name": "LayoutModel",
            "_view_count": null,
            "_view_module": "@jupyter-widgets/base",
            "_view_module_version": "1.2.0",
            "_view_name": "LayoutView",
            "align_content": null,
            "align_items": null,
            "align_self": null,
            "border": null,
            "bottom": null,
            "display": null,
            "flex": null,
            "flex_flow": null,
            "grid_area": null,
            "grid_auto_columns": null,
            "grid_auto_flow": null,
            "grid_auto_rows": null,
            "grid_column": null,
            "grid_gap": null,
            "grid_row": null,
            "grid_template_areas": null,
            "grid_template_columns": null,
            "grid_template_rows": null,
            "height": null,
            "justify_content": null,
            "justify_items": null,
            "left": null,
            "margin": null,
            "max_height": null,
            "max_width": null,
            "min_height": null,
            "min_width": null,
            "object_fit": null,
            "object_position": null,
            "order": null,
            "overflow": null,
            "overflow_x": null,
            "overflow_y": null,
            "padding": null,
            "right": null,
            "top": null,
            "visibility": null,
            "width": null
          }
        },
        "257285dfaaad40bea10d892659c3d530": {
          "model_module": "@jupyter-widgets/controls",
          "model_name": "DescriptionStyleModel",
          "model_module_version": "1.5.0",
          "state": {
            "_model_module": "@jupyter-widgets/controls",
            "_model_module_version": "1.5.0",
            "_model_name": "DescriptionStyleModel",
            "_view_count": null,
            "_view_module": "@jupyter-widgets/base",
            "_view_module_version": "1.2.0",
            "_view_name": "StyleView",
            "description_width": ""
          }
        }
      }
    }
  },
  "cells": [
    {
      "cell_type": "code",
      "source": [
        "from google.colab import drive\n",
        "drive.mount('/content/drive')"
      ],
      "metadata": {
        "colab": {
          "base_uri": "https://localhost:8080/"
        },
        "id": "6oz6s9uu8uAw",
        "outputId": "874189a9-77f9-4d01-e26f-9be47f4c6df4"
      },
      "execution_count": 1,
      "outputs": [
        {
          "output_type": "stream",
          "name": "stdout",
          "text": [
            "Mounted at /content/drive\n"
          ]
        }
      ]
    },
    {
      "cell_type": "code",
      "source": [
        "import os\n",
        "os.chdir('/content/drive/MyDrive/Colab Notebooks/TechBytes/ml-100k')"
      ],
      "metadata": {
        "id": "-1ip6JgJ80JG"
      },
      "execution_count": 3,
      "outputs": []
    },
    {
      "cell_type": "code",
      "source": [
        "%matplotlib inline\n",
        "\n",
        "import pandas as pd\n",
        "import numpy as np\n",
        "import matplotlib.pyplot as plt\n",
        "import random\n",
        "from tqdm import tqdm_notebook\n",
        "from copy import deepcopy\n",
        "\n",
        "import torch\n",
        "import torch.nn as nn\n",
        "import torch.nn.functional as F\n",
        "from torch.utils.data import DataLoader, Dataset\n",
        "device = torch.device(\"cuda:0\" if torch.cuda.is_available() else \"cpu\")\n",
        "\n",
        "data_path = f'{os.getcwd()}'+'/'\n",
        "print(data_path)"
      ],
      "metadata": {
        "colab": {
          "base_uri": "https://localhost:8080/"
        },
        "id": "AGy6t1cX9CL3",
        "outputId": "484a160e-a807-488e-8b81-68c6e605a2d4"
      },
      "execution_count": 11,
      "outputs": [
        {
          "output_type": "stream",
          "name": "stdout",
          "text": [
            "/content/drive/MyDrive/Colab Notebooks/TechBytes/ml-100k/\n"
          ]
        }
      ]
    },
    {
      "cell_type": "code",
      "source": [
        "id_val = 1\n",
        "num_users = 943\n",
        "num_videos = 1682\n",
        "train_dataframe = pd.read_csv(f'{data_path}u{id_val}.base',sep='\\t',header=None)\n",
        "train_dataframe.columns = ['user_id','video_id','watch_time','ts']\n",
        "train_dataframe['user_id'] = train_dataframe['user_id'] - 1\n",
        "train_dataframe['video_id'] = train_dataframe['video_id'] - 1\n",
        "valid_df = pd.read_csv(f'{data_path}u{id_val}.test',sep='\\t',header=None)\n",
        "valid_df.columns = ['user_id','video_id','watch_time','ts']\n",
        "valid_df['user_id'] = valid_df['user_id'] -1\n",
        "valid_df['video_id'] = valid_df['video_id'] -1\n",
        "train_dataframe.shape, valid_df.shape"
      ],
      "metadata": {
        "colab": {
          "base_uri": "https://localhost:8080/"
        },
        "id": "M6cHKbMz9EjX",
        "outputId": "a95acfa6-fc02-490f-85ac-4079b2d2d225"
      },
      "execution_count": 42,
      "outputs": [
        {
          "output_type": "execute_result",
          "data": {
            "text/plain": [
              "((80000, 4), (20000, 4))"
            ]
          },
          "metadata": {},
          "execution_count": 42
        }
      ]
    },
    {
      "cell_type": "code",
      "source": [
        "train_dataframe.head(100)"
      ],
      "metadata": {
        "colab": {
          "base_uri": "https://localhost:8080/",
          "height": 423
        },
        "id": "-AuIFcpe-zsn",
        "outputId": "e29a6fc3-e08a-4059-e1a5-b1a16ca791cd"
      },
      "execution_count": 43,
      "outputs": [
        {
          "output_type": "execute_result",
          "data": {
            "text/plain": [
              "    user_id  video_id  watch_time         ts\n",
              "0         0         0           5  874965758\n",
              "1         0         1           3  876893171\n",
              "2         0         2           4  878542960\n",
              "3         0         3           3  876893119\n",
              "4         0         4           3  889751712\n",
              "..      ...       ...         ...        ...\n",
              "95        0       178           3  875072370\n",
              "96        0       180           5  874965739\n",
              "97        0       181           4  875072520\n",
              "98        0       186           4  874965678\n",
              "99        0       190           5  875072956\n",
              "\n",
              "[100 rows x 4 columns]"
            ],
            "text/html": [
              "\n",
              "  <div id=\"df-dfc03ba9-fb0f-40bb-a7db-50b8b2ff0cf4\" class=\"colab-df-container\">\n",
              "    <div>\n",
              "<style scoped>\n",
              "    .dataframe tbody tr th:only-of-type {\n",
              "        vertical-align: middle;\n",
              "    }\n",
              "\n",
              "    .dataframe tbody tr th {\n",
              "        vertical-align: top;\n",
              "    }\n",
              "\n",
              "    .dataframe thead th {\n",
              "        text-align: right;\n",
              "    }\n",
              "</style>\n",
              "<table border=\"1\" class=\"dataframe\">\n",
              "  <thead>\n",
              "    <tr style=\"text-align: right;\">\n",
              "      <th></th>\n",
              "      <th>user_id</th>\n",
              "      <th>video_id</th>\n",
              "      <th>watch_time</th>\n",
              "      <th>ts</th>\n",
              "    </tr>\n",
              "  </thead>\n",
              "  <tbody>\n",
              "    <tr>\n",
              "      <th>0</th>\n",
              "      <td>0</td>\n",
              "      <td>0</td>\n",
              "      <td>5</td>\n",
              "      <td>874965758</td>\n",
              "    </tr>\n",
              "    <tr>\n",
              "      <th>1</th>\n",
              "      <td>0</td>\n",
              "      <td>1</td>\n",
              "      <td>3</td>\n",
              "      <td>876893171</td>\n",
              "    </tr>\n",
              "    <tr>\n",
              "      <th>2</th>\n",
              "      <td>0</td>\n",
              "      <td>2</td>\n",
              "      <td>4</td>\n",
              "      <td>878542960</td>\n",
              "    </tr>\n",
              "    <tr>\n",
              "      <th>3</th>\n",
              "      <td>0</td>\n",
              "      <td>3</td>\n",
              "      <td>3</td>\n",
              "      <td>876893119</td>\n",
              "    </tr>\n",
              "    <tr>\n",
              "      <th>4</th>\n",
              "      <td>0</td>\n",
              "      <td>4</td>\n",
              "      <td>3</td>\n",
              "      <td>889751712</td>\n",
              "    </tr>\n",
              "    <tr>\n",
              "      <th>...</th>\n",
              "      <td>...</td>\n",
              "      <td>...</td>\n",
              "      <td>...</td>\n",
              "      <td>...</td>\n",
              "    </tr>\n",
              "    <tr>\n",
              "      <th>95</th>\n",
              "      <td>0</td>\n",
              "      <td>178</td>\n",
              "      <td>3</td>\n",
              "      <td>875072370</td>\n",
              "    </tr>\n",
              "    <tr>\n",
              "      <th>96</th>\n",
              "      <td>0</td>\n",
              "      <td>180</td>\n",
              "      <td>5</td>\n",
              "      <td>874965739</td>\n",
              "    </tr>\n",
              "    <tr>\n",
              "      <th>97</th>\n",
              "      <td>0</td>\n",
              "      <td>181</td>\n",
              "      <td>4</td>\n",
              "      <td>875072520</td>\n",
              "    </tr>\n",
              "    <tr>\n",
              "      <th>98</th>\n",
              "      <td>0</td>\n",
              "      <td>186</td>\n",
              "      <td>4</td>\n",
              "      <td>874965678</td>\n",
              "    </tr>\n",
              "    <tr>\n",
              "      <th>99</th>\n",
              "      <td>0</td>\n",
              "      <td>190</td>\n",
              "      <td>5</td>\n",
              "      <td>875072956</td>\n",
              "    </tr>\n",
              "  </tbody>\n",
              "</table>\n",
              "<p>100 rows × 4 columns</p>\n",
              "</div>\n",
              "    <div class=\"colab-df-buttons\">\n",
              "\n",
              "  <div class=\"colab-df-container\">\n",
              "    <button class=\"colab-df-convert\" onclick=\"convertToInteractive('df-dfc03ba9-fb0f-40bb-a7db-50b8b2ff0cf4')\"\n",
              "            title=\"Convert this dataframe to an interactive table.\"\n",
              "            style=\"display:none;\">\n",
              "\n",
              "  <svg xmlns=\"http://www.w3.org/2000/svg\" height=\"24px\" viewBox=\"0 -960 960 960\">\n",
              "    <path d=\"M120-120v-720h720v720H120Zm60-500h600v-160H180v160Zm220 220h160v-160H400v160Zm0 220h160v-160H400v160ZM180-400h160v-160H180v160Zm440 0h160v-160H620v160ZM180-180h160v-160H180v160Zm440 0h160v-160H620v160Z\"/>\n",
              "  </svg>\n",
              "    </button>\n",
              "\n",
              "  <style>\n",
              "    .colab-df-container {\n",
              "      display:flex;\n",
              "      gap: 12px;\n",
              "    }\n",
              "\n",
              "    .colab-df-convert {\n",
              "      background-color: #E8F0FE;\n",
              "      border: none;\n",
              "      border-radius: 50%;\n",
              "      cursor: pointer;\n",
              "      display: none;\n",
              "      fill: #1967D2;\n",
              "      height: 32px;\n",
              "      padding: 0 0 0 0;\n",
              "      width: 32px;\n",
              "    }\n",
              "\n",
              "    .colab-df-convert:hover {\n",
              "      background-color: #E2EBFA;\n",
              "      box-shadow: 0px 1px 2px rgba(60, 64, 67, 0.3), 0px 1px 3px 1px rgba(60, 64, 67, 0.15);\n",
              "      fill: #174EA6;\n",
              "    }\n",
              "\n",
              "    .colab-df-buttons div {\n",
              "      margin-bottom: 4px;\n",
              "    }\n",
              "\n",
              "    [theme=dark] .colab-df-convert {\n",
              "      background-color: #3B4455;\n",
              "      fill: #D2E3FC;\n",
              "    }\n",
              "\n",
              "    [theme=dark] .colab-df-convert:hover {\n",
              "      background-color: #434B5C;\n",
              "      box-shadow: 0px 1px 3px 1px rgba(0, 0, 0, 0.15);\n",
              "      filter: drop-shadow(0px 1px 2px rgba(0, 0, 0, 0.3));\n",
              "      fill: #FFFFFF;\n",
              "    }\n",
              "  </style>\n",
              "\n",
              "    <script>\n",
              "      const buttonEl =\n",
              "        document.querySelector('#df-dfc03ba9-fb0f-40bb-a7db-50b8b2ff0cf4 button.colab-df-convert');\n",
              "      buttonEl.style.display =\n",
              "        google.colab.kernel.accessAllowed ? 'block' : 'none';\n",
              "\n",
              "      async function convertToInteractive(key) {\n",
              "        const element = document.querySelector('#df-dfc03ba9-fb0f-40bb-a7db-50b8b2ff0cf4');\n",
              "        const dataTable =\n",
              "          await google.colab.kernel.invokeFunction('convertToInteractive',\n",
              "                                                    [key], {});\n",
              "        if (!dataTable) return;\n",
              "\n",
              "        const docLinkHtml = 'Like what you see? Visit the ' +\n",
              "          '<a target=\"_blank\" href=https://colab.research.google.com/notebooks/data_table.ipynb>data table notebook</a>'\n",
              "          + ' to learn more about interactive tables.';\n",
              "        element.innerHTML = '';\n",
              "        dataTable['output_type'] = 'display_data';\n",
              "        await google.colab.output.renderOutput(dataTable, element);\n",
              "        const docLink = document.createElement('div');\n",
              "        docLink.innerHTML = docLinkHtml;\n",
              "        element.appendChild(docLink);\n",
              "      }\n",
              "    </script>\n",
              "  </div>\n",
              "\n",
              "\n",
              "<div id=\"df-8e50ae47-c79a-4c68-928e-0191947c1771\">\n",
              "  <button class=\"colab-df-quickchart\" onclick=\"quickchart('df-8e50ae47-c79a-4c68-928e-0191947c1771')\"\n",
              "            title=\"Suggest charts.\"\n",
              "            style=\"display:none;\">\n",
              "\n",
              "<svg xmlns=\"http://www.w3.org/2000/svg\" height=\"24px\"viewBox=\"0 0 24 24\"\n",
              "     width=\"24px\">\n",
              "    <g>\n",
              "        <path d=\"M19 3H5c-1.1 0-2 .9-2 2v14c0 1.1.9 2 2 2h14c1.1 0 2-.9 2-2V5c0-1.1-.9-2-2-2zM9 17H7v-7h2v7zm4 0h-2V7h2v10zm4 0h-2v-4h2v4z\"/>\n",
              "    </g>\n",
              "</svg>\n",
              "  </button>\n",
              "\n",
              "<style>\n",
              "  .colab-df-quickchart {\n",
              "      --bg-color: #E8F0FE;\n",
              "      --fill-color: #1967D2;\n",
              "      --hover-bg-color: #E2EBFA;\n",
              "      --hover-fill-color: #174EA6;\n",
              "      --disabled-fill-color: #AAA;\n",
              "      --disabled-bg-color: #DDD;\n",
              "  }\n",
              "\n",
              "  [theme=dark] .colab-df-quickchart {\n",
              "      --bg-color: #3B4455;\n",
              "      --fill-color: #D2E3FC;\n",
              "      --hover-bg-color: #434B5C;\n",
              "      --hover-fill-color: #FFFFFF;\n",
              "      --disabled-bg-color: #3B4455;\n",
              "      --disabled-fill-color: #666;\n",
              "  }\n",
              "\n",
              "  .colab-df-quickchart {\n",
              "    background-color: var(--bg-color);\n",
              "    border: none;\n",
              "    border-radius: 50%;\n",
              "    cursor: pointer;\n",
              "    display: none;\n",
              "    fill: var(--fill-color);\n",
              "    height: 32px;\n",
              "    padding: 0;\n",
              "    width: 32px;\n",
              "  }\n",
              "\n",
              "  .colab-df-quickchart:hover {\n",
              "    background-color: var(--hover-bg-color);\n",
              "    box-shadow: 0 1px 2px rgba(60, 64, 67, 0.3), 0 1px 3px 1px rgba(60, 64, 67, 0.15);\n",
              "    fill: var(--button-hover-fill-color);\n",
              "  }\n",
              "\n",
              "  .colab-df-quickchart-complete:disabled,\n",
              "  .colab-df-quickchart-complete:disabled:hover {\n",
              "    background-color: var(--disabled-bg-color);\n",
              "    fill: var(--disabled-fill-color);\n",
              "    box-shadow: none;\n",
              "  }\n",
              "\n",
              "  .colab-df-spinner {\n",
              "    border: 2px solid var(--fill-color);\n",
              "    border-color: transparent;\n",
              "    border-bottom-color: var(--fill-color);\n",
              "    animation:\n",
              "      spin 1s steps(1) infinite;\n",
              "  }\n",
              "\n",
              "  @keyframes spin {\n",
              "    0% {\n",
              "      border-color: transparent;\n",
              "      border-bottom-color: var(--fill-color);\n",
              "      border-left-color: var(--fill-color);\n",
              "    }\n",
              "    20% {\n",
              "      border-color: transparent;\n",
              "      border-left-color: var(--fill-color);\n",
              "      border-top-color: var(--fill-color);\n",
              "    }\n",
              "    30% {\n",
              "      border-color: transparent;\n",
              "      border-left-color: var(--fill-color);\n",
              "      border-top-color: var(--fill-color);\n",
              "      border-right-color: var(--fill-color);\n",
              "    }\n",
              "    40% {\n",
              "      border-color: transparent;\n",
              "      border-right-color: var(--fill-color);\n",
              "      border-top-color: var(--fill-color);\n",
              "    }\n",
              "    60% {\n",
              "      border-color: transparent;\n",
              "      border-right-color: var(--fill-color);\n",
              "    }\n",
              "    80% {\n",
              "      border-color: transparent;\n",
              "      border-right-color: var(--fill-color);\n",
              "      border-bottom-color: var(--fill-color);\n",
              "    }\n",
              "    90% {\n",
              "      border-color: transparent;\n",
              "      border-bottom-color: var(--fill-color);\n",
              "    }\n",
              "  }\n",
              "</style>\n",
              "\n",
              "  <script>\n",
              "    async function quickchart(key) {\n",
              "      const quickchartButtonEl =\n",
              "        document.querySelector('#' + key + ' button');\n",
              "      quickchartButtonEl.disabled = true;  // To prevent multiple clicks.\n",
              "      quickchartButtonEl.classList.add('colab-df-spinner');\n",
              "      try {\n",
              "        const charts = await google.colab.kernel.invokeFunction(\n",
              "            'suggestCharts', [key], {});\n",
              "      } catch (error) {\n",
              "        console.error('Error during call to suggestCharts:', error);\n",
              "      }\n",
              "      quickchartButtonEl.classList.remove('colab-df-spinner');\n",
              "      quickchartButtonEl.classList.add('colab-df-quickchart-complete');\n",
              "    }\n",
              "    (() => {\n",
              "      let quickchartButtonEl =\n",
              "        document.querySelector('#df-8e50ae47-c79a-4c68-928e-0191947c1771 button');\n",
              "      quickchartButtonEl.style.display =\n",
              "        google.colab.kernel.accessAllowed ? 'block' : 'none';\n",
              "    })();\n",
              "  </script>\n",
              "</div>\n",
              "    </div>\n",
              "  </div>\n"
            ]
          },
          "metadata": {},
          "execution_count": 43
        }
      ]
    },
    {
      "cell_type": "code",
      "source": [
        "train_usrs = train_dataframe.user_id.unique()\n",
        "vald_usrs = valid_df.user_id.unique()\n",
        "len(train_usrs),len(vald_usrs)\n",
        "train_videos = train_dataframe.video_id.unique()\n",
        "vald_videos = valid_df.video_id.unique()\n",
        "len(train_videos),len(vald_videos)"
      ],
      "metadata": {
        "colab": {
          "base_uri": "https://localhost:8080/"
        },
        "id": "F6vGUaa79mpP",
        "outputId": "ce9f341e-ceab-4d1a-9c41-03ebcd76884f"
      },
      "execution_count": 45,
      "outputs": [
        {
          "output_type": "execute_result",
          "data": {
            "text/plain": [
              "(1650, 1410)"
            ]
          },
          "metadata": {},
          "execution_count": 45
        }
      ]
    },
    {
      "cell_type": "code",
      "source": [
        "class CollabDataset(Dataset):\n",
        "    def __init__(self, df, user_col=0, item_col=1, watch_time_col=2):\n",
        "        self.df = df\n",
        "        self.user_tensor = torch.tensor(self.df.iloc[:,user_col], dtype=torch.long, device = device)\n",
        "        self.item_tensor = torch.tensor(self.df.iloc[:,item_col], dtype=torch.long, device = device)\n",
        "        self.target_tensor = torch.tensor(self.df.iloc[:,watch_time_col], dtype=torch.float32, device = device)\n",
        "\n",
        "    def __getitem__(self, index):\n",
        "        return(self.user_tensor[index], self.item_tensor[index], self.target_tensor[index])\n",
        "\n",
        "    def __len__(self):\n",
        "        return(self.user_tensor.shape[0])\n",
        "batch_size = 2000\n",
        "train_dataset = CollabDataset(train_dataframe)\n",
        "train_dataloader = DataLoader(train_dataset, batch_size=batch_size, shuffle=True, num_workers=4)\n",
        "valid_dataset = CollabDataset(valid_df)\n",
        "valid_dataloader = DataLoader(valid_dataset, batch_size=batch_size, shuffle=True, num_workers=4)"
      ],
      "metadata": {
        "colab": {
          "base_uri": "https://localhost:8080/"
        },
        "id": "31Xs4xyK9oy2",
        "outputId": "b56d534f-b25a-4679-d054-6a445a816094"
      },
      "execution_count": 46,
      "outputs": [
        {
          "output_type": "stream",
          "name": "stderr",
          "text": [
            "/usr/local/lib/python3.10/dist-packages/torch/utils/data/dataloader.py:560: UserWarning: This DataLoader will create 4 worker processes in total. Our suggested max number of worker in current system is 2, which is smaller than what this DataLoader is going to create. Please be aware that excessive worker creation might get DataLoader running slow or even freeze, lower the worker number to avoid potential slowness/freeze if necessary.\n",
            "  warnings.warn(_create_warning_msg(\n"
          ]
        }
      ]
    },
    {
      "cell_type": "code",
      "source": [
        "class ConcatNet(nn.Module):\n",
        "    def __init__(self, config):\n",
        "        super(ConcatNet, self).__init__()\n",
        "        #hyperparameters\n",
        "        self.config = config\n",
        "        self.num_users = config['num_users']\n",
        "        self.num_videos = config['num_videos']\n",
        "        self.emb_size = config['emb_size']\n",
        "        self.emb_droupout = config['emb_droupout']\n",
        "        self.fc_layer_sizes = config['fc_layer_sizes']\n",
        "        self.dropout = config['dropout']\n",
        "        self.out_range = config['out_range']\n",
        "\n",
        "        #embeddings\n",
        "        self.emb_user = nn.Sequential(\n",
        "            nn.Embedding(num_embeddings=self.num_users, embedding_dim=self.emb_size),\n",
        "            nn.Dropout(p=self.emb_droupout))\n",
        "        self.emb_item = nn.Sequential(\n",
        "            nn.Embedding(num_embeddings=self.num_videos, embedding_dim=self.emb_size),\n",
        "            nn.Dropout(p=self.emb_droupout))\n",
        "\n",
        "        #fully-connected layers\n",
        "        fc_layers_list = []\n",
        "        for ni,nf,p in zip(self.fc_layer_sizes[:-1], self.fc_layer_sizes[1:], self.dropout):\n",
        "            fc_layers_list.append(nn.Linear(ni, nf))\n",
        "            fc_layers_list.append(nn.ReLU(inplace=True))\n",
        "            fc_layers_list.append(nn.BatchNorm1d(nf))\n",
        "            fc_layers_list.append(nn.Dropout(p=p))\n",
        "        self.fc_layers = nn.Sequential(*fc_layers_list)\n",
        "\n",
        "        #output head\n",
        "        self.head = torch.nn.Linear(in_features=self.fc_layer_sizes[-1], out_features=1)\n",
        "\n",
        "    def forward(self, user_idx, video_idx):\n",
        "        user_emb = self.emb_user(user_idx)\n",
        "        item_emb = self.emb_item(video_idx)\n",
        "        x = torch.cat([user_emb, item_emb], dim=1)\n",
        "        x = self.fc_layers(x)\n",
        "        x = torch.sigmoid(self.head(x))\n",
        "        x = x * (self.out_range[1] - self.out_range[0]) + self.out_range[0]\n",
        "        return(x)\n",
        "\n",
        "\n",
        "config = {\n",
        "    'num_users':943,\n",
        "    'num_videos':1682,\n",
        "    'emb_size':50,\n",
        "    'emb_droupout': 0.05,\n",
        "    'fc_layer_sizes': [100, 512, 256],\n",
        "    'dropout': [0.7,0.35],\n",
        "    'out_range': [0.8,5.2]}\n",
        "model = ConcatNet(config)\n",
        "model"
      ],
      "metadata": {
        "colab": {
          "base_uri": "https://localhost:8080/"
        },
        "id": "KDzBMV2A9rbX",
        "outputId": "28634ca2-2d1b-4939-fd8a-d99ab85d1878"
      },
      "execution_count": 47,
      "outputs": [
        {
          "output_type": "execute_result",
          "data": {
            "text/plain": [
              "ConcatNet(\n",
              "  (emb_user): Sequential(\n",
              "    (0): Embedding(943, 50)\n",
              "    (1): Dropout(p=0.05, inplace=False)\n",
              "  )\n",
              "  (emb_item): Sequential(\n",
              "    (0): Embedding(1682, 50)\n",
              "    (1): Dropout(p=0.05, inplace=False)\n",
              "  )\n",
              "  (fc_layers): Sequential(\n",
              "    (0): Linear(in_features=100, out_features=512, bias=True)\n",
              "    (1): ReLU(inplace=True)\n",
              "    (2): BatchNorm1d(512, eps=1e-05, momentum=0.1, affine=True, track_running_stats=True)\n",
              "    (3): Dropout(p=0.7, inplace=False)\n",
              "    (4): Linear(in_features=512, out_features=256, bias=True)\n",
              "    (5): ReLU(inplace=True)\n",
              "    (6): BatchNorm1d(256, eps=1e-05, momentum=0.1, affine=True, track_running_stats=True)\n",
              "    (7): Dropout(p=0.35, inplace=False)\n",
              "  )\n",
              "  (head): Linear(in_features=256, out_features=1, bias=True)\n",
              ")"
            ]
          },
          "metadata": {},
          "execution_count": 47
        }
      ]
    },
    {
      "cell_type": "code",
      "source": [
        "batch_size = 2000\n",
        "learning_rate = 1e-2\n",
        "weight_decay = 5e-1\n",
        "num_epoch = 50\n",
        "reduce_learning_rate = 1\n",
        "early_stoping = 5\n",
        "\n",
        "\n",
        "learning_rates = []\n",
        "train_losses=[]\n",
        "valid_losses = []\n",
        "best_loss = np.inf\n",
        "best_weights = None\n",
        "\n",
        "train_dataset = CollabDataset(train_dataframe)\n",
        "train_dataloader = DataLoader(train_dataset, batch_size=batch_size, shuffle=True, num_workers=4)\n",
        "valid_dataset = CollabDataset(valid_df)\n",
        "valid_dataloader = DataLoader(valid_dataset, batch_size=batch_size, shuffle=True, num_workers=4)\n",
        "\n",
        "model = ConcatNet(config)\n",
        "criterion = nn.MSELoss(reduction='sum')\n",
        "optim = torch.optim.Adam(model.parameters(), betas=(0.9,0.999), weight_decay=weight_decay)"
      ],
      "metadata": {
        "id": "zH_mFPAJ9wju"
      },
      "execution_count": 48,
      "outputs": []
    },
    {
      "cell_type": "code",
      "source": [
        "for e in tqdm_notebook(range(num_epoch)):\n",
        "    model.train()\n",
        "    train_loss = 0\n",
        "    for u,i,r in train_dataloader:\n",
        "        r_pred = model(u,i)\n",
        "        r = r[:,None]\n",
        "\n",
        "        loss = criterion(r_pred,r)\n",
        "\n",
        "        optim.zero_grad()\n",
        "        loss.backward()\n",
        "        optim.step()\n",
        "        train_loss+= loss.detach().item()\n",
        "\n",
        "    train_loss /= len(train_dataset)\n",
        "    train_losses.append(train_loss)\n",
        "\n",
        "    model.eval()\n",
        "    valid_loss = 0\n",
        "    for u,i,r in valid_dataloader:\n",
        "        r_pred = model(u,i)\n",
        "        r = r[:,None]\n",
        "        loss = criterion(r_pred,r)\n",
        "        valid_loss+=loss.detach().item()\n",
        "    valid_loss/=len(valid_dataset)\n",
        "    #record\n",
        "    valid_losses.append(valid_loss)\n",
        "    print(f'Epoch {e} Train loss: {train_loss}; Valid loss: {valid_loss}')#; Learning rate: {current_learning_rate}')\n",
        "\n",
        "    if valid_loss < best_loss:\n",
        "        best_loss = valid_loss\n",
        "        best_weights = deepcopy(model.state_dict())\n",
        "        no_improvements = 0\n",
        "    else:\n",
        "        no_improvements += 1\n",
        "\n",
        "    if no_improvements >= early_stoping:\n",
        "        print(f'early stopping after epoch {e}')\n",
        "        break"
      ],
      "metadata": {
        "colab": {
          "base_uri": "https://localhost:8080/",
          "height": 1000,
          "referenced_widgets": [
            "312dade87865455a8ba76623fab52b87",
            "392f1b53bac1428b9ee05d9691f3c902",
            "2ed1c489af814d95a0e3e3a501cb241b",
            "aefa2c6a4ca44a8c86d1d81a272e1eaf",
            "84132f083a5943659dc5001c99fd2f87",
            "8953598d3ab84afb8405ed4d9edbbf28",
            "015252e637644b2faa7a0311b22bf000",
            "1c81f98043b14e188ee045236f1ef73f",
            "5952dded3f9742beb8d7cd4645d32efc",
            "2f86be92d90545cda6b5423e19c721e6",
            "257285dfaaad40bea10d892659c3d530"
          ]
        },
        "id": "ScF72TDX97oY",
        "outputId": "afbedb79-6862-4f5d-e3ba-d2a2e006426b"
      },
      "execution_count": 49,
      "outputs": [
        {
          "output_type": "stream",
          "name": "stderr",
          "text": [
            "<ipython-input-49-0e9680ed8a9f>:1: TqdmDeprecationWarning: This function will be removed in tqdm==5.0.0\n",
            "Please use `tqdm.notebook.tqdm` instead of `tqdm.tqdm_notebook`\n",
            "  for e in tqdm_notebook(range(num_epoch)):\n"
          ]
        },
        {
          "output_type": "display_data",
          "data": {
            "text/plain": [
              "  0%|          | 0/50 [00:00<?, ?it/s]"
            ],
            "application/vnd.jupyter.widget-view+json": {
              "version_major": 2,
              "version_minor": 0,
              "model_id": "312dade87865455a8ba76623fab52b87"
            }
          },
          "metadata": {}
        },
        {
          "output_type": "stream",
          "name": "stdout",
          "text": [
            "Epoch 0 Train loss: 1.587610772705078; Valid loss: 1.335863720703125\n",
            "Epoch 1 Train loss: 1.3237972595214844; Valid loss: 1.2268058349609374\n",
            "Epoch 2 Train loss: 1.2314623626708985; Valid loss: 1.1610480346679688\n",
            "Epoch 3 Train loss: 1.1841071075439453; Valid loss: 1.137773876953125\n",
            "Epoch 4 Train loss: 1.152795538330078; Valid loss: 1.1253530395507811\n",
            "Epoch 5 Train loss: 1.1260210845947265; Valid loss: 1.11475068359375\n",
            "Epoch 6 Train loss: 1.1071603454589845; Valid loss: 1.0971701171875\n",
            "Epoch 7 Train loss: 1.0941636505126953; Valid loss: 1.088370263671875\n",
            "Epoch 8 Train loss: 1.0773972076416016; Valid loss: 1.0752315185546875\n",
            "Epoch 9 Train loss: 1.0626468399047853; Valid loss: 1.0651719116210938\n",
            "Epoch 10 Train loss: 1.0507869491577149; Valid loss: 1.0545671813964843\n",
            "Epoch 11 Train loss: 1.0380869064331055; Valid loss: 1.045956427001953\n",
            "Epoch 12 Train loss: 1.026624708557129; Valid loss: 1.037457080078125\n",
            "Epoch 13 Train loss: 1.0121302154541016; Valid loss: 1.029441729736328\n",
            "Epoch 14 Train loss: 1.001919367980957; Valid loss: 1.0222165893554687\n",
            "Epoch 15 Train loss: 0.9920768783569336; Valid loss: 1.0146922790527344\n",
            "Epoch 16 Train loss: 0.9833255935668945; Valid loss: 1.0054569580078125\n",
            "Epoch 17 Train loss: 0.9723980773925781; Valid loss: 0.9991985900878906\n",
            "Epoch 18 Train loss: 0.9630098983764649; Valid loss: 0.9943484741210937\n",
            "Epoch 19 Train loss: 0.9549803787231446; Valid loss: 0.9901624328613281\n",
            "Epoch 20 Train loss: 0.9499753189086914; Valid loss: 0.982736181640625\n",
            "Epoch 21 Train loss: 0.9387437911987304; Valid loss: 0.976693212890625\n",
            "Epoch 22 Train loss: 0.9290689392089844; Valid loss: 0.9720550903320313\n",
            "Epoch 23 Train loss: 0.9211809753417969; Valid loss: 0.9663607727050781\n",
            "Epoch 24 Train loss: 0.9167812469482421; Valid loss: 0.9619893249511718\n",
            "Epoch 25 Train loss: 0.9122040710449218; Valid loss: 0.9573299865722656\n",
            "Epoch 26 Train loss: 0.9045305541992188; Valid loss: 0.9566447937011718\n",
            "Epoch 27 Train loss: 0.8969302490234375; Valid loss: 0.94935244140625\n",
            "Epoch 28 Train loss: 0.8897105682373047; Valid loss: 0.9467654602050781\n",
            "Epoch 29 Train loss: 0.8854227951049805; Valid loss: 0.9432554138183594\n",
            "Epoch 30 Train loss: 0.8801597457885743; Valid loss: 0.9400998291015625\n",
            "Epoch 31 Train loss: 0.872559390258789; Valid loss: 0.938889453125\n",
            "Epoch 32 Train loss: 0.8699266983032227; Valid loss: 0.9348515319824219\n",
            "Epoch 33 Train loss: 0.867324154663086; Valid loss: 0.933262841796875\n",
            "Epoch 34 Train loss: 0.8554943969726563; Valid loss: 0.9300126342773437\n",
            "Epoch 35 Train loss: 0.8553573135375977; Valid loss: 0.9275788452148438\n",
            "Epoch 36 Train loss: 0.8496356597900391; Valid loss: 0.9252259582519531\n",
            "Epoch 37 Train loss: 0.8435458786010742; Valid loss: 0.9255620483398438\n",
            "Epoch 38 Train loss: 0.8391635635375977; Valid loss: 0.9222320739746094\n",
            "Epoch 39 Train loss: 0.8382427841186524; Valid loss: 0.9207923645019531\n",
            "Epoch 40 Train loss: 0.8318619995117188; Valid loss: 0.9209856567382813\n",
            "Epoch 41 Train loss: 0.8280085083007812; Valid loss: 0.91700732421875\n",
            "Epoch 42 Train loss: 0.8245177032470703; Valid loss: 0.9180966613769531\n",
            "Epoch 43 Train loss: 0.8192175384521484; Valid loss: 0.9171511779785156\n",
            "Epoch 44 Train loss: 0.8186630554199219; Valid loss: 0.9141436584472656\n",
            "Epoch 45 Train loss: 0.8113910827636719; Valid loss: 0.914636962890625\n",
            "Epoch 46 Train loss: 0.80731533203125; Valid loss: 0.9132151489257813\n",
            "Epoch 47 Train loss: 0.8027127792358398; Valid loss: 0.9117663635253906\n",
            "Epoch 48 Train loss: 0.7968494049072266; Valid loss: 0.9130346069335937\n",
            "Epoch 49 Train loss: 0.7937467681884766; Valid loss: 0.9123105712890625\n"
          ]
        }
      ]
    },
    {
      "cell_type": "code",
      "source": [
        "plt.plot(train_losses)\n",
        "plt.plot(valid_losses)"
      ],
      "metadata": {
        "colab": {
          "base_uri": "https://localhost:8080/",
          "height": 448
        },
        "id": "wnNq55O2-vF1",
        "outputId": "f54baf6d-549b-4f25-8860-39f347b3aa73"
      },
      "execution_count": 50,
      "outputs": [
        {
          "output_type": "execute_result",
          "data": {
            "text/plain": [
              "[<matplotlib.lines.Line2D at 0x7d9490ce0400>]"
            ]
          },
          "metadata": {},
          "execution_count": 50
        },
        {
          "output_type": "display_data",
          "data": {
            "text/plain": [
              "<Figure size 640x480 with 1 Axes>"
            ],
            "image/png": "[encoded data removed]"
          },
          "metadata": {}
        }
      ]
    },
    {
      "cell_type": "code",
      "source": [
        "for batch in valid_dataloader:\n",
        "    first_item = batch\n",
        "    break\n",
        "print(first_item)"
      ],
      "metadata": {
        "colab": {
          "base_uri": "https://localhost:8080/"
        },
        "id": "LNtGMKo6NPPH",
        "outputId": "8e20f6e6-dd03-4c37-cee2-9edd5ab5335f"
      },
      "execution_count": 55,
      "outputs": [
        {
          "output_type": "stream",
          "name": "stderr",
          "text": [
            "/usr/local/lib/python3.10/dist-packages/torch/utils/data/dataloader.py:560: UserWarning: This DataLoader will create 4 worker processes in total. Our suggested max number of worker in current system is 2, which is smaller than what this DataLoader is going to create. Please be aware that excessive worker creation might get DataLoader running slow or even freeze, lower the worker number to avoid potential slowness/freeze if necessary.\n",
            "  warnings.warn(_create_warning_msg(\n"
          ]
        },
        {
          "output_type": "stream",
          "name": "stdout",
          "text": [
            "[tensor([444, 262, 322,  ..., 278,  17, 195]), tensor([918, 885, 763,  ..., 213,  57, 305]), tensor([1., 2., 3.,  ..., 3., 4., 4.])]\n"
          ]
        }
      ]
    },
    {
      "cell_type": "code",
      "source": [
        "# take a user & get watch_time against all videos\n",
        "model(torch.full((batch_size,), 3), first_item[1])"
      ],
      "metadata": {
        "colab": {
          "base_uri": "https://localhost:8080/"
        },
        "id": "RbEQDYgJOgDY",
        "outputId": "8a7b65f0-c4c9-4f43-affc-531b1cea2617"
      },
      "execution_count": 54,
      "outputs": [
        {
          "output_type": "execute_result",
          "data": {
            "text/plain": [
              "tensor([[4.1278],\n",
              "        [4.4255],\n",
              "        [3.2254],\n",
              "        ...,\n",
              "        [4.0275],\n",
              "        [3.8810],\n",
              "        [4.5791]], grad_fn=<AddBackward0>)"
            ]
          },
          "metadata": {},
          "execution_count": 54
        }
      ]
    }
  ]
}